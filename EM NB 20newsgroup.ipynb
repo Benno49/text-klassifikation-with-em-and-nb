{
 "cells": [
  {
   "cell_type": "code",
   "execution_count": 1,
   "id": "b8eb59d9-0189-48b4-baf9-93ba93405ac3",
   "metadata": {},
   "outputs": [],
   "source": [
    "import numpy as np\n",
    "import matplotlib.pyplot as plt\n",
    "\n",
    "from sklearn.datasets import fetch_20newsgroups\n",
    "from sklearn.model_selection import train_test_split\n",
    "from sklearn.feature_extraction.text import TfidfVectorizer\n",
    "from sklearn.metrics import accuracy_score\n",
    "\n",
    "from EM import ExpectationMaximation\n",
    "from EM_extended import ExpectationMaximation_extended\n",
    "from NB import NaiveBayes"
   ]
  },
  {
   "cell_type": "code",
   "execution_count": 2,
   "id": "d4fc2f94-fd23-4844-ab34-b2d783784699",
   "metadata": {},
   "outputs": [],
   "source": [
    "#creates a dirctionary with the accuracies and log model probabilities of the em algorithm for the different numbers of labeled data specified in labeled_train_sizes\n",
    "def test_em(X_labeled, y_labeled, X_unlabeled, X_test, y_test, labeled_train_sizes, print_accuracy=False):\n",
    "    em_test_scores = dict()\n",
    "    em_test_scores['accuracy']=list()\n",
    "    em_test_scores['log_model_prob']=list()\n",
    "    em_test_scores['labeled_train_sizes'] = list()\n",
    "    for labeled_train_size in labeled_train_sizes:\n",
    "        if (labeled_train_size>X_labeled.shape[0]):\n",
    "            print(\"labeled_train_size \", labeled_train_size, \" too large; not enough labeled data!\")\n",
    "            continue\n",
    "        em = ExpectationMaximation()\n",
    "        em.fit(X_labeled[:labeled_train_size,], y_labeled[:labeled_train_size], X_unlabeled)\n",
    "        y_pred = em.predict(X_test)\n",
    "        accuracy = accuracy_score(y_test,y_pred)\n",
    "        em_test_scores['accuracy'].append(accuracy)\n",
    "        if (print_accuracy):\n",
    "            print (labeled_train_size, \"labeled datasets:\")\n",
    "            print (\"Accuracy:\", accuracy)\n",
    "        em_test_scores['log_model_prob'].append(em.log_model_prob)\n",
    "        em_test_scores['labeled_train_sizes'].append(labeled_train_size)\n",
    "    return em_test_scores"
   ]
  },
  {
   "cell_type": "code",
   "execution_count": 4,
   "id": "dad9e639-818b-4f75-a4db-c91ee7f92f71",
   "metadata": {},
   "outputs": [],
   "source": [
    "#creates a dirctionary with the accuracies and log model probabilities of naive bayes for the different numbers of labeled data specified in labeled_train_sizes\n",
    "def test_nb(X_labeled, y_labeled, X_test, y_test, labeled_train_sizes, print_accuracy=False):\n",
    "    nb_test_scores = dict()\n",
    "    nb_test_scores['accuracy']=list()\n",
    "    nb_test_scores['log_model_prob']=list()\n",
    "    nb_test_scores['labeled_train_sizes'] = list()\n",
    "    for labeled_train_size in labeled_train_sizes:\n",
    "        if (labeled_train_size>X_labeled.shape[0]):\n",
    "            print(\"labeled_train_size \", labeled_train_size, \" too large; not enough labeled data!\")\n",
    "            continue\n",
    "        nb = NaiveBayes()\n",
    "        nb.fit(X_labeled[:labeled_train_size,], y_labeled[:labeled_train_size])\n",
    "        y_pred = nb.predict(X_test)\n",
    "        accuracy = accuracy_score(y_test,y_pred)\n",
    "        nb_test_scores['accuracy'].append(accuracy)\n",
    "        if (print_accuracy):\n",
    "            print (labeled_train_size, \"labeled datasets:\")\n",
    "            print (\"Accuracy:\", accuracy)\n",
    "        nb_test_scores['log_model_prob'].append(em.log_model_prob)\n",
    "        nb_test_scores['labeled_train_sizes'].append(labeled_train_size)\n",
    "    return nb_test_scores"
   ]
  },
  {
   "cell_type": "code",
   "execution_count": 6,
   "id": "16839384-370d-4dec-a4d7-ce9ff00d6cb1",
   "metadata": {},
   "outputs": [],
   "source": [
    "data = fetch_20newsgroups(subset='all', remove=('headers', 'footers', 'quotes'), shuffle=False)\n",
    "X_train_text, X_test_text, y_train, y_test = train_test_split(data.data, data.target, test_size=0.2, stratify=data.target)"
   ]
  },
  {
   "cell_type": "code",
   "execution_count": 7,
   "id": "9dae74ef-f50b-424c-ba59-7e9a07f09222",
   "metadata": {},
   "outputs": [],
   "source": [
    "# Transformtext data into vectors \n",
    "vectorizer = TfidfVectorizer(stop_words=['english'], min_df=5, max_df=0.95)\n",
    "\n",
    "X_train = vectorizer.fit_transform(X_train_text)\n",
    "X_test = vectorizer.transform(X_test_text)"
   ]
  },
  {
   "cell_type": "code",
   "execution_count": 8,
   "id": "99557c5f-875e-4b60-bf03-5b55cd4e480f",
   "metadata": {},
   "outputs": [],
   "source": [
    "# Divide train data set into labeled and unlabeled data sets\n",
    "X_labeled, X_unlabeled, y_labeled, y_unlabeled = train_test_split(X_train, y_train, test_size=10000, stratify=y_train)\n",
    "experiments = np.logspace(2.3, 3.7, num=20, base=10, dtype='int')"
   ]
  },
  {
   "cell_type": "code",
   "execution_count": 9,
   "id": "5caa7160-811c-47da-a8d2-3a139ead3005",
   "metadata": {},
   "outputs": [
    {
     "name": "stdout",
     "output_type": "stream",
     "text": [
      "0.6517241379310345\n"
     ]
    }
   ],
   "source": [
    "# test of my own em classifier\n",
    "from sklearn.metrics import accuracy_score\n",
    "from EM import ExpectationMaximation\n",
    "\n",
    "em = ExpectationMaximation()\n",
    "em.fit(X_labeled[:1000,], y_labeled[:1000], X_unlabeled)\n",
    "print(accuracy_score(y_test,em.predict(X_test)))"
   ]
  },
  {
   "cell_type": "code",
   "execution_count": 10,
   "id": "46ff29ac-1cd7-4ac5-9ead-8e6e7009a396",
   "metadata": {},
   "outputs": [
    {
     "name": "stdout",
     "output_type": "stream",
     "text": [
      "200 labeled datasets:\n",
      "Accuracy: 0.5175066312997347\n",
      "400 labeled datasets:\n",
      "Accuracy: 0.5721485411140583\n",
      "600 labeled datasets:\n",
      "Accuracy: 0.6159151193633953\n",
      "800 labeled datasets:\n",
      "Accuracy: 0.650132625994695\n",
      "1000 labeled datasets:\n",
      "Accuracy: 0.6517241379310345\n",
      "1200 labeled datasets:\n",
      "Accuracy: 0.6612732095490716\n",
      "1400 labeled datasets:\n",
      "Accuracy: 0.6641909814323608\n",
      "1600 labeled datasets:\n",
      "Accuracy: 0.6681697612732096\n",
      "1800 labeled datasets:\n",
      "Accuracy: 0.6753315649867374\n",
      "2000 labeled datasets:\n",
      "Accuracy: 0.6838196286472149\n",
      "2200 labeled datasets:\n",
      "Accuracy: 0.6851458885941645\n",
      "2400 labeled datasets:\n",
      "Accuracy: 0.6870026525198939\n",
      "2600 labeled datasets:\n",
      "Accuracy: 0.6888594164456233\n",
      "2800 labeled datasets:\n",
      "Accuracy: 0.6941644562334217\n",
      "3000 labeled datasets:\n",
      "Accuracy: 0.6936339522546419\n",
      "3200 labeled datasets:\n",
      "Accuracy: 0.696551724137931\n",
      "3400 labeled datasets:\n",
      "Accuracy: 0.6986737400530504\n",
      "3600 labeled datasets:\n",
      "Accuracy: 0.7\n",
      "3800 labeled datasets:\n",
      "Accuracy: 0.7018567639257295\n",
      "4000 labeled datasets:\n",
      "Accuracy: 0.706366047745358\n",
      "4200 labeled datasets:\n",
      "Accuracy: 0.7084880636604775\n",
      "4400 labeled datasets:\n",
      "Accuracy: 0.710079575596817\n",
      "4600 labeled datasets:\n",
      "Accuracy: 0.709814323607427\n",
      "4800 labeled datasets:\n",
      "Accuracy: 0.710079575596817\n"
     ]
    }
   ],
   "source": [
    "labeled_train_sizes = range(200,5000,200)\n",
    "em_test_scores = test_em(X_labeled, y_labeled, X_unlabeled, X_test, y_test, labeled_train_sizes, print_accuracy=True)"
   ]
  },
  {
   "cell_type": "code",
   "execution_count": 12,
   "id": "7f2be467-7e4b-4332-abe0-98cfc6b0d6a3",
   "metadata": {},
   "outputs": [
    {
     "name": "stdout",
     "output_type": "stream",
     "text": [
      "200 labeled datasets:\n",
      "Accuracy: 0.3159151193633952\n",
      "400 labeled datasets:\n",
      "Accuracy: 0.42201591511936337\n",
      "600 labeled datasets:\n",
      "Accuracy: 0.5050397877984085\n",
      "800 labeled datasets:\n",
      "Accuracy: 0.5517241379310345\n",
      "1000 labeled datasets:\n",
      "Accuracy: 0.5668435013262599\n",
      "1200 labeled datasets:\n",
      "Accuracy: 0.5944297082228117\n",
      "1400 labeled datasets:\n",
      "Accuracy: 0.6175066312997347\n",
      "1600 labeled datasets:\n",
      "Accuracy: 0.6249336870026525\n",
      "1800 labeled datasets:\n",
      "Accuracy: 0.6419098143236074\n",
      "2000 labeled datasets:\n",
      "Accuracy: 0.6538461538461539\n",
      "2200 labeled datasets:\n",
      "Accuracy: 0.6575596816976127\n",
      "2400 labeled datasets:\n",
      "Accuracy: 0.6633952254641909\n",
      "2600 labeled datasets:\n",
      "Accuracy: 0.6676392572944297\n",
      "2800 labeled datasets:\n",
      "Accuracy: 0.6702917771883289\n",
      "3000 labeled datasets:\n",
      "Accuracy: 0.6787798408488064\n",
      "3200 labeled datasets:\n",
      "Accuracy: 0.6824933687002652\n",
      "3400 labeled datasets:\n",
      "Accuracy: 0.6840848806366048\n",
      "3600 labeled datasets:\n",
      "Accuracy: 0.6920424403183024\n",
      "3800 labeled datasets:\n",
      "Accuracy: 0.6915119363395226\n",
      "4000 labeled datasets:\n",
      "Accuracy: 0.6938992042440318\n",
      "4200 labeled datasets:\n",
      "Accuracy: 0.6960212201591512\n",
      "4400 labeled datasets:\n",
      "Accuracy: 0.6986737400530504\n",
      "4600 labeled datasets:\n",
      "Accuracy: 0.7018567639257295\n",
      "4800 labeled datasets:\n",
      "Accuracy: 0.7061007957559682\n"
     ]
    }
   ],
   "source": [
    "nb_test_scores = test_nb(X_labeled, y_labeled, X_test, y_test, labeled_train_sizes, print_accuracy=True)"
   ]
  },
  {
   "cell_type": "code",
   "execution_count": 14,
   "id": "ee79aea2-3c55-4749-8ea3-aef80bab6008",
   "metadata": {},
   "outputs": [
    {
     "data": {
      "text/plain": [
       "Text(0.5, 1.0, 'Test Accuracy vs Number of Labeled Documents in Training Set')"
      ]
     },
     "execution_count": 14,
     "metadata": {},
     "output_type": "execute_result"
    },
    {
     "data": {
      "image/png": "[encoded data removed]",
      "text/plain": [
       "<Figure size 720x432 with 1 Axes>"
      ]
     },
     "metadata": {
      "needs_background": "light"
     },
     "output_type": "display_data"
    }
   ],
   "source": [
    "#plotting accuracy against number of labeled documents\n",
    "fig = plt.figure(figsize=(10,6))\n",
    "ax = fig.add_subplot(111)\n",
    "ax.plot(nb_test_scores['labeled_train_sizes'], nb_test_scores['accuracy'], color='b', marker='s', linewidth=2, label='Naive Bayes')\n",
    "ax.plot(em_test_scores['labeled_train_sizes'], em_test_scores['accuracy'], color='r', marker='o', linewidth=2, label='Expectation Maximation')\n",
    "ax.set_xlabel('Number of labeled texts')\n",
    "ax.set_ylabel('Accuracy')\n",
    "ax.set_xlim(left=np.min(nb_test_scores['labeled_train_sizes']+em_test_scores['labeled_train_sizes'])-50,\n",
    "            right=np.max(nb_test_scores['labeled_train_sizes']+em_test_scores['labeled_train_sizes'])+50)\n",
    "ax.set_xticks(range(100,5000,400))\n",
    "plt.legend(loc='upper left')\n",
    "plt.title('Test Accuracy vs Number of Labeled Documents in Training Set')"
   ]
  },
  {
   "cell_type": "code",
   "execution_count": 15,
   "id": "61ffea6e-144b-47e6-a97a-c3e4e0dbe40b",
   "metadata": {},
   "outputs": [],
   "source": [
    "#calculating model probability and accuracy for each iteration of the em-algorithm for 10 randomly chosen sets of labeled texts\n",
    "labeled_train_size = 1000\n",
    "em_scores = dict()\n",
    "em_scores['log_model_prob'] = list()\n",
    "em_scores['accuracy'] = list()\n",
    "for random_seed in range(1,10):\n",
    "    X_labeled_1, _, y_labeled_1, _ = train_test_split(X_labeled, y_labeled, random_state=random_seed, train_size=labeled_train_size)\n",
    "    for n_iter in range(11):\n",
    "        em = ExpectationMaximation(max_iter=n_iter, tol=0)\n",
    "        em.fit(X_labeled_1, y_labeled_1, X_unlabeled)\n",
    "        y_pred = em.predict(X_test)\n",
    "        accuracy = accuracy_score(y_test,y_pred)\n",
    "        em_scores['accuracy'].append(accuracy)\n",
    "        em_scores['log_model_prob'].append(em.log_model_prob)"
   ]
  },
  {
   "cell_type": "code",
   "execution_count": 18,
   "id": "cbb23d5a-f028-493d-9407-9980f5ee96b6",
   "metadata": {},
   "outputs": [
    {
     "data": {
      "text/plain": [
       "Text(0.5, 1.0, 'Test Accuracy vs Logarithmic Model Probability')"
      ]
     },
     "execution_count": 18,
     "metadata": {},
     "output_type": "execute_result"
    },
    {
     "data": {
      "image/png": "[encoded data removed]",
      "text/plain": [
       "<Figure size 720x432 with 1 Axes>"
      ]
     },
     "metadata": {
      "needs_background": "light"
     },
     "output_type": "display_data"
    }
   ],
   "source": [
    "#plotting model probability against accuracy\n",
    "fig = plt.figure(figsize=(10,6))\n",
    "ax = fig.add_subplot(111)\n",
    "ax.scatter(em_scores['log_model_prob'], em_scores['accuracy'], color='r', marker='+', label='Expectation Maximation')\n",
    "ax.set_xlabel('Logarithmic model probability')\n",
    "ax.set_ylabel('Accuracy')\n",
    "ax.set_xlim(left=np.min(em_scores['log_model_prob'])-50,\n",
    "            right=np.max(em_scores['log_model_prob'])+50)\n",
    "plt.legend(loc='upper left')\n",
    "plt.title('Test Accuracy vs Logarithmic Model Probability')"
   ]
  },
  {
   "cell_type": "code",
   "execution_count": null,
   "id": "2a8d9f02-163f-48d9-bf1c-2b39db2ba3bf",
   "metadata": {},
   "outputs": [],
   "source": []
  }
 ],
 "metadata": {
  "kernelspec": {
   "display_name": "Python 3",
   "language": "python",
   "name": "python3"
  },
  "language_info": {
   "codemirror_mode": {
    "name": "ipython",
    "version": 3
   },
   "file_extension": ".py",
   "mimetype": "text/x-python",
   "name": "python",
   "nbconvert_exporter": "python",
   "pygments_lexer": "ipython3",
   "version": "3.8.8"
  }
 },
 "nbformat": 4,
 "nbformat_minor": 5
}
